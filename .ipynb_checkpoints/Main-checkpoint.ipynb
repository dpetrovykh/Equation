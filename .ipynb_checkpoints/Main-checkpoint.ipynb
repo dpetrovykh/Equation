{
 "cells": [
  {
   "cell_type": "code",
   "execution_count": 1,
   "id": "7937ee5b",
   "metadata": {},
   "outputs": [
    {
     "data": {
      "text/latex": [
       "$\\frac{x_{3}}{4}$"
      ],
      "text/plain": [
       "<IPython.core.display.Latex object>"
      ]
     },
     "metadata": {},
     "output_type": "display_data"
    }
   ],
   "source": [
    "from IPython.display import display, Latex\n",
    "display(Latex(r'$\\frac{x_{3}}{4}$'))\n",
    "\n",
    "import functools"
   ]
  },
  {
   "cell_type": "markdown",
   "id": "15884d29",
   "metadata": {},
   "source": [
    "\n"
   ]
  },
  {
   "cell_type": "code",
   "execution_count": 2,
   "id": "30649d16",
   "metadata": {},
   "outputs": [],
   "source": [
    "class Expression:\n",
    "    def display(self):\n",
    "        display(Latex('$'+self.display_string()+'$'))\n",
    "    \n",
    "    def display_string(self):\n",
    "        pass\n",
    "    \n",
    "    def evaluate(self, input_dict=None):\n",
    "        pass\n",
    "    \n",
    "    def process_other(self, other):\n",
    "        if isinstance(other, (int, float)):\n",
    "            return Literal(other)\n",
    "        return other\n",
    "    \n",
    "    def __add__(self, other):\n",
    "        other = self.process_other(other)\n",
    "        return Add(self, other)\n",
    "    \n",
    "    def __radd__(self, other):\n",
    "        other = self.process_other(other)\n",
    "        return Add(other, self)\n",
    "    \n",
    "    def __sub__(self, other):\n",
    "        other = self.process_other(other)\n",
    "        return Sub(self, other)\n",
    "    \n",
    "    def __rsub__(self, other):\n",
    "        other = self.process_other(other)\n",
    "        return Sub(other, self)\n",
    "    \n",
    "    def __truediv__(self, other):\n",
    "        other = self.process_other(other)\n",
    "        return Div(self, other)\n",
    "    \n",
    "    def __rtruediv__(self, other):\n",
    "        other = self.process_other(other)\n",
    "        return Div(other, self)\n",
    "    \n",
    "    def __mul__(self, other):\n",
    "        other = self.process_other(other)\n",
    "        return Mult(self, other)\n",
    "    \n",
    "    def __rmul__(self, other):\n",
    "        other = self.process_other(other)\n",
    "        return Mult(other, self)\n",
    "    \n",
    "    def __pow__(self, other):\n",
    "        other = self.process_other(other)\n",
    "        return Pow(self, other)\n",
    "    \n",
    "    def __rpow__(self, other):\n",
    "        other = self.process_other(other)\n",
    "        return Pow(other, self)\n",
    "    \n",
    "    def __call__(self, **kwargs):\n",
    "        return self.evaluate(kwargs)\n",
    "    \n",
    "    \n",
    "class Literal(Expression):\n",
    "    def __init__(self, value):\n",
    "        self.value = value\n",
    "        \n",
    "    def evaluate(self, input_dict=None):\n",
    "        return self.value\n",
    "    \n",
    "    def display_string(self):\n",
    "        return f\"{self.value}\"\n",
    "    \n",
    "    \n",
    "class Variable(Expression):\n",
    "    def __init__(self, variable_name, latex_name=None):\n",
    "        self.variable_name = variable_name\n",
    "        if latex_name is None:\n",
    "            self.latex_name = r\"\\text{\" + variable_name +r\"}\"\n",
    "        else: \n",
    "            self.latex_name = latex_name\n",
    "            \n",
    "    def evaluate(self, input_dict):\n",
    "        return input_dict[self.variable_name]        \n",
    "    \n",
    "    def display_string(self):\n",
    "        return self.latex_name \n",
    "    \n",
    "    \n",
    "class Add(Expression):\n",
    "    def __init__(self, addend_1, addend_2):\n",
    "        self.addend_1 = addend_1\n",
    "        self.addend_2 = addend_2\n",
    "        \n",
    "    def evaluate(self, input_dict=None):\n",
    "        return self.addend_1.evaluate(input_dict) + self.addend_2.evaluate(input_dict)\n",
    "    \n",
    "    def display_string(self):\n",
    "        return self.addend_1.display_string() + \"+\" + self.addend_2.display_string()\n",
    "    \n",
    "    \n",
    "class Sub(Expression):\n",
    "    def __init__(self, minuend, subtrahend):\n",
    "        self.minuend  = minuend\n",
    "        self.subtrahend = subtrahend\n",
    "        \n",
    "    def evaluate(self, input_dict=None):\n",
    "        return self.minuend.evaluate(input_dict) - self.subtrahend.evaluate(input_dict)\n",
    "    \n",
    "    def display_string(self):\n",
    "        return self.minuend.display_string() + \"-\" + self.subtrahend.display_string()\n",
    "    \n",
    "\n",
    "class Div(Expression):\n",
    "    def __init__(self, numerator, denominator):\n",
    "        self.numerator = numerator\n",
    "        self.denominator = denominator\n",
    "        \n",
    "    def evaluate(self, input_dict=None):\n",
    "        return (self.numerator.evaluate(input_dict))/(self.denominator.evaluate(input_dict))\n",
    "    \n",
    "    def display_string(self):\n",
    "        return r\"\\frac{\" + self.numerator.display_string() + \"}{\" + self.denominator.display_string() + \"}\"\n",
    "    \n",
    "    \n",
    "class Mult(Expression):\n",
    "    def __init__(self, factor_1, factor_2):\n",
    "        self.factor_1 = factor_1\n",
    "        self.factor_2 = factor_2\n",
    "        \n",
    "    def evaluate(self, input_dict=None):\n",
    "        return self.factor_1.evaluate(input_dict) * self.factor_2.evaluate(input_dict)\n",
    "    \n",
    "    def display_string(self):\n",
    "        return self.factor_1.display_string() + \"*\" + self.factor_2.display_string()\n",
    "    \n",
    "    \n",
    "class Pow(Expression):\n",
    "    def __init__(self, base, power):\n",
    "        self.base = base\n",
    "        self.power = power\n",
    "        \n",
    "    def evaluate(self, input_dict=None):\n",
    "        return (self.base.evaluate(input_dict))**(self.power.evaluate(input_dict))\n",
    "    \n",
    "    def display_string(self):\n",
    "        return \"{\" + self.base.display_string() + \"}^{\" + self.power.display_string() + \"}\"\n",
    "        "
   ]
  },
  {
   "cell_type": "code",
   "execution_count": 3,
   "id": "cfdc0c3b",
   "metadata": {},
   "outputs": [
    {
     "name": "stdout",
     "output_type": "stream",
     "text": [
      "3\n"
     ]
    }
   ],
   "source": [
    "a = Literal(3)\n",
    "print(a.display_string())\n",
    "b = Literal(6)\n"
   ]
  },
  {
   "cell_type": "code",
   "execution_count": 4,
   "id": "86651f5b",
   "metadata": {},
   "outputs": [
    {
     "data": {
      "text/latex": [
       "$3+6$"
      ],
      "text/plain": [
       "<IPython.core.display.Latex object>"
      ]
     },
     "metadata": {},
     "output_type": "display_data"
    },
    {
     "name": "stdout",
     "output_type": "stream",
     "text": [
      "9\n"
     ]
    }
   ],
   "source": [
    "exp = a+b\n",
    "exp.display()\n",
    "print(exp.evaluate())"
   ]
  },
  {
   "cell_type": "code",
   "execution_count": 5,
   "id": "b5d4cf28",
   "metadata": {},
   "outputs": [
    {
     "data": {
      "text/latex": [
       "$3-6$"
      ],
      "text/plain": [
       "<IPython.core.display.Latex object>"
      ]
     },
     "metadata": {},
     "output_type": "display_data"
    },
    {
     "name": "stdout",
     "output_type": "stream",
     "text": [
      "-3\n"
     ]
    }
   ],
   "source": [
    "exp = a-b\n",
    "exp.display()\n",
    "print(exp.evaluate())"
   ]
  },
  {
   "cell_type": "code",
   "execution_count": 6,
   "id": "34f1a01d",
   "metadata": {},
   "outputs": [
    {
     "data": {
      "text/latex": [
       "$\\text{c}-3$"
      ],
      "text/plain": [
       "<IPython.core.display.Latex object>"
      ]
     },
     "metadata": {},
     "output_type": "display_data"
    },
    {
     "name": "stdout",
     "output_type": "stream",
     "text": [
      "1\n"
     ]
    }
   ],
   "source": [
    "c = Variable(\"c\")\n",
    "exp = c-a\n",
    "exp.display()\n",
    "print(exp.evaluate({\"c\":4}))"
   ]
  },
  {
   "cell_type": "code",
   "execution_count": 7,
   "id": "48628962",
   "metadata": {},
   "outputs": [
    {
     "data": {
      "text/latex": [
       "$m+\\Delta+4$"
      ],
      "text/plain": [
       "<IPython.core.display.Latex object>"
      ]
     },
     "metadata": {},
     "output_type": "display_data"
    },
    {
     "name": "stdout",
     "output_type": "stream",
     "text": [
      "20\n"
     ]
    }
   ],
   "source": [
    "m = Variable(\"mass\", \"m\")\n",
    "d = Variable(\"diameter\", \"\\Delta\")\n",
    "exp = m+d+4\n",
    "exp.display()\n",
    "print(exp.evaluate({\"mass\":6,\n",
    "                 \"diameter\":10}))"
   ]
  },
  {
   "cell_type": "code",
   "execution_count": 8,
   "id": "75ab6222",
   "metadata": {},
   "outputs": [
    {
     "data": {
      "text/latex": [
       "$\\frac{m}{\\Delta}$"
      ],
      "text/plain": [
       "<IPython.core.display.Latex object>"
      ]
     },
     "metadata": {},
     "output_type": "display_data"
    },
    {
     "name": "stdout",
     "output_type": "stream",
     "text": [
      "0.6\n"
     ]
    }
   ],
   "source": [
    "exp = m/d\n",
    "exp.display()\n",
    "print(exp.evaluate({\"mass\":6,\n",
    "                 \"diameter\":10}))"
   ]
  },
  {
   "cell_type": "code",
   "execution_count": 11,
   "id": "83b9af71",
   "metadata": {},
   "outputs": [
    {
     "data": {
      "text/latex": [
       "$\\frac{{{\\text{x}}^{3}+{\\text{y}}^{2}}^{4}}{{\\text{z}}^{\\text{x}}}$"
      ],
      "text/plain": [
       "<IPython.core.display.Latex object>"
      ]
     },
     "metadata": {},
     "output_type": "display_data"
    },
    {
     "name": "stdout",
     "output_type": "stream",
     "text": [
      "\\frac{{{\\text{x}}^{3}+{\\text{y}}^{2}}^{4}}{{\\text{z}}^{\\text{x}}}\n"
     ]
    }
   ],
   "source": [
    "x = Variable(\"x\")\n",
    "y = Variable(\"y\")\n",
    "z = Variable(\"z\")\n",
    "exp = (x**3+y**2)**4/z**x\n",
    "exp.display()\n",
    "print(exp.display_string())"
   ]
  },
  {
   "cell_type": "code",
   "execution_count": 10,
   "id": "d2feabcd",
   "metadata": {},
   "outputs": [
    {
     "name": "stdout",
     "output_type": "stream",
     "text": [
      "0.027200000000000002\n"
     ]
    }
   ],
   "source": [
    "d = Variable(\"distance\", \"d\")\n",
    "l = Variable(\"length\", \"l_{focus}\")\n",
    "theta_exp = (d*2.4*1.36)/(2*l)\n",
    "print(theta_exp(distance=4, length=240))"
   ]
  },
  {
   "cell_type": "code",
   "execution_count": null,
   "id": "df5f015a",
   "metadata": {},
   "outputs": [],
   "source": []
  },
  {
   "cell_type": "raw",
   "id": "f7030eb9",
   "metadata": {},
   "source": [
    "print(rad(240))"
   ]
  },
  {
   "cell_type": "code",
   "execution_count": null,
   "id": "98ea8fcf",
   "metadata": {},
   "outputs": [],
   "source": []
  }
 ],
 "metadata": {
  "kernelspec": {
   "display_name": "Python 3",
   "language": "python",
   "name": "python3"
  },
  "language_info": {
   "codemirror_mode": {
    "name": "ipython",
    "version": 3
   },
   "file_extension": ".py",
   "mimetype": "text/x-python",
   "name": "python",
   "nbconvert_exporter": "python",
   "pygments_lexer": "ipython3",
   "version": "3.8.8"
  }
 },
 "nbformat": 4,
 "nbformat_minor": 5
}
